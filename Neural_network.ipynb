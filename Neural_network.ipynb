{
  "nbformat": 4,
  "nbformat_minor": 0,
  "metadata": {
    "colab": {
      "provenance": []
    },
    "kernelspec": {
      "name": "python3",
      "display_name": "Python 3"
    },
    "language_info": {
      "name": "python"
    }
  },
  "cells": [
    {
      "cell_type": "code",
      "execution_count": null,
      "metadata": {
        "id": "otOPyTbbgAzk",
        "colab": {
          "base_uri": "https://localhost:8080/"
        },
        "outputId": "b6f2c5ad-57f4-4ddd-d2ce-c3d7a7cf8e0f"
      },
      "outputs": [
        {
          "output_type": "stream",
          "name": "stdout",
          "text": [
            "0.9975273768433653\n"
          ]
        }
      ],
      "source": [
        "import numpy as np\n",
        "from sklearn.metrics import mean_squared_error, accuracy_score\n",
        "import matplotlib.pyplot as plt\n",
        "import pandas as pd\n",
        "# НС С 1 слоем\n",
        "def sigmoid(x):\n",
        "  # Наша функция активации: f(x) = 1 / (1 + e^(-x))\n",
        "  return 1 / (1 + np.exp(-x))\n",
        "\n",
        "class Neuron:\n",
        "  def __init__(self, weights, bias):\n",
        "    self.weights = weights\n",
        "    self.bias = bias\n",
        "\n",
        "  def feedforward(self, inputs):\n",
        "    # Умножаем входы на веса, прибавляем порог, затем используем функцию активации\n",
        "    total = np.dot(self.weights, inputs) + self.bias\n",
        "    return sigmoid(total)\n",
        "\n",
        "weights = np.array([1, 0]) # w1 = 1, w2 = 0\n",
        "bias = 4                   # b = 4\n",
        "n = Neuron(weights, bias)\n",
        "\n",
        "x = np.array([2, 3])       # x1 = 2, x2 = 3\n",
        "print(n.feedforward(x))    # 0.997\n"
      ]
    },
    {
      "cell_type": "code",
      "source": [
        "#Нейронная сеть с:  2 входами, скрытым слоем с 2 нейронами (h1, h2) и выходным слоем с 1 нейроном (o1)\n",
        "#Все нейроны имеют одинаковые веса и пороги: w = [0, 1] и  b = 0\n",
        "\n",
        "class OurNeuralNetwork:\n",
        "\n",
        "  def __init__(self):\n",
        "    weights = np.array([1, 0])\n",
        "    bias = 0\n",
        "\n",
        "    # Используем класс Neuron из предыдущего раздела\n",
        "    self.h1 = Neuron(weights, bias)\n",
        "    self.h2 = Neuron(weights, bias)\n",
        "    self.o1 = Neuron(weights, bias)\n",
        "\n",
        "  def feedforward(self, x):\n",
        "    out_h1 = self.h1.feedforward(x)\n",
        "    out_h2 = self.h2.feedforward(x)\n",
        "\n",
        "    # Входы для o1 - это выходы h1 и h2\n",
        "    out_o1 = self.o1.feedforward(np.array([out_h1, out_h2]))\n",
        "\n",
        "    return out_o1\n",
        "\n",
        "network = OurNeuralNetwork()\n",
        "x = np.array([2, 3])\n",
        "print(network.feedforward(x)) # 0.706"
      ],
      "metadata": {
        "colab": {
          "base_uri": "https://localhost:8080/"
        },
        "id": "f80SE5llg4lV",
        "outputId": "7c84c40f-1e80-48cf-94af-ec0da6db3468"
      },
      "execution_count": null,
      "outputs": [
        {
          "output_type": "stream",
          "name": "stdout",
          "text": [
            "0.7069873680001046\n"
          ]
        }
      ]
    },
    {
      "cell_type": "code",
      "source": [
        "# размер выборки\n",
        "sample_volume = 80\n",
        "# обучающая выборка\n",
        "x = np.random.uniform(-1, 1.5, (sample_volume,1))\n",
        "y_true = np.sin(3*x)/2.5 + 0.5\n",
        "y = y_true + np.random.normal(0, 0.05, (sample_volume,1))\n",
        "n = 1\n",
        "L = [3, 2]\n",
        "#Для вычислений необходимо знать полную структуру, сколько элементов на каждом слое: входной, скрытые, выходной\n",
        "nn_structure = np.array([n])\n",
        "nn_structure = np.hstack([nn_structure, L])\n",
        "nn_structure = np.hstack([nn_structure, 1])\n",
        "num_layers = nn_structure.shape[0]\n",
        "print(\"Число всех слоев:\", num_layers)\n",
        "print(\"Число элементов на всех слоях:\",nn_structure)"
      ],
      "metadata": {
        "colab": {
          "base_uri": "https://localhost:8080/"
        },
        "id": "cL_c-HOHx6Uu",
        "outputId": "f7def7c6-07cd-43c4-9d7b-6dd9ccc0e84a"
      },
      "execution_count": null,
      "outputs": [
        {
          "output_type": "stream",
          "name": "stdout",
          "text": [
            "Число всех слоев: 4\n",
            "Число элементов на всех слоях: [1 3 2 1]\n"
          ]
        }
      ]
    },
    {
      "cell_type": "code",
      "source": [
        "#Функция вычисления сигмоиды в скрытых слоях\n",
        "def sigmoid(x):\n",
        "  return 1/(1+np.exp(-x))"
      ],
      "metadata": {
        "id": "a7leVI0qyQ9H"
      },
      "execution_count": null,
      "outputs": []
    },
    {
      "cell_type": "code",
      "source": [
        "#Случайная инициализация весов небольшими значениями равномерно в интервале  [−1,1] .\n",
        "#Существуют методы инициализации с учетом размеров слоев и типа функции активации.\n",
        "weights = []\n",
        "for i in range(num_layers-1):\n",
        "  weights.append( np.random.uniform(-1,1,\n",
        "                (nn_structure[i]+1, nn_structure[i+1])) )\n",
        "  if i != (num_layers-2):\n",
        "    print(\"Матрица весов слоя\",(i+1),weights[i].shape)\n",
        "  else:\n",
        "    print(\"Матрица весов выходного слоя\",weights[i].shape)\n",
        "print(\"\\nЗначения весов:\")\n",
        "weights"
      ],
      "metadata": {
        "colab": {
          "base_uri": "https://localhost:8080/"
        },
        "id": "Vh9qhuT7yTft",
        "outputId": "5a54759c-205b-4693-9d97-a96d803fb7f6"
      },
      "execution_count": null,
      "outputs": [
        {
          "output_type": "stream",
          "name": "stdout",
          "text": [
            "Матрица весов слоя 1 (2, 3)\n",
            "Матрица весов слоя 2 (4, 2)\n",
            "Матрица весов выходного слоя (3, 1)\n",
            "\n",
            "Значения весов:\n"
          ]
        },
        {
          "output_type": "execute_result",
          "data": {
            "text/plain": [
              "[array([[ 0.7440435 , -0.94467903,  0.63174163],\n",
              "        [ 0.34056343,  0.86397954, -0.44009701]]),\n",
              " array([[-0.92514195,  0.2183924 ],\n",
              "        [-0.94633812, -0.19094489],\n",
              "        [-0.95329979, -0.40673627],\n",
              "        [-0.99321916, -0.5345856 ]]),\n",
              " array([[-0.5311093 ],\n",
              "        [ 0.19469209],\n",
              "        [-0.579847  ]])]"
            ]
          },
          "metadata": {},
          "execution_count": 38
        }
      ]
    },
    {
      "cell_type": "code",
      "source": [
        "#Прямой проход\n",
        "#На каждом слое надо добавить фиктивный вход с постоянным значением (обычно равно  1 ), веса этого входа - это веса смещения.\n",
        "inputs = []\n",
        "inputs.append( np.hstack([x, np.ones((sample_volume,1))]) )\n",
        "print(\"Первые 3 примера входных данных 1го слоя (от входа на 1й слоя)\")\n",
        "print(inputs[0][0:3])"
      ],
      "metadata": {
        "colab": {
          "base_uri": "https://localhost:8080/"
        },
        "id": "C-dKDmQqyWt3",
        "outputId": "7f0e8b47-7394-4100-9e58-4508b95bd32b"
      },
      "execution_count": null,
      "outputs": [
        {
          "output_type": "stream",
          "name": "stdout",
          "text": [
            "Первые 3 примера входных данных 1го слоя (от входа на 1й слоя)\n",
            "[[0.91299702 1.        ]\n",
            " [0.25423878 1.        ]\n",
            " [0.05085194 1.        ]]\n"
          ]
        }
      ]
    },
    {
      "cell_type": "code",
      "source": [
        "#Умножим входы на веса, получим для каждого примера суммы для 3х нейронов скрытого слоя 1.\n",
        "sum = []\n",
        "sum.append( np.dot(inputs[0], weights[0]) )\n",
        "print(sum[0][0:3])"
      ],
      "metadata": {
        "colab": {
          "base_uri": "https://localhost:8080/"
        },
        "id": "lLq_lcPvysl_",
        "outputId": "f62d913f-5a55-4832-d52a-cb49b216c9fc"
      },
      "execution_count": null,
      "outputs": [
        {
          "output_type": "stream",
          "name": "stdout",
          "text": [
            "[[ 1.01987292  0.0014904   0.13668122]\n",
            " [ 0.52972814  0.6238055  -0.27948379]\n",
            " [ 0.37839948  0.81594078 -0.40797172]]\n"
          ]
        }
      ]
    },
    {
      "cell_type": "code",
      "source": [
        "#Выходы нейронов 1го слоя как результат вычисления функций активации (в данном примере сигмоидов) для каждого примера.\n",
        "outputs = []\n",
        "outputs.append( sigmoid(sum[0]) )\n",
        "print(outputs[0][0:3])"
      ],
      "metadata": {
        "colab": {
          "base_uri": "https://localhost:8080/"
        },
        "id": "y9Y5zc1izOn7",
        "outputId": "81eea8f5-05ab-418c-9acc-bf659b8e238b"
      },
      "execution_count": null,
      "outputs": [
        {
          "output_type": "stream",
          "name": "stdout",
          "text": [
            "[[0.73494785 0.5003726  0.53411721]\n",
            " [0.6294197  0.65108356 0.43058034]\n",
            " [0.59348702 0.693374   0.39939856]]\n"
          ]
        }
      ]
    },
    {
      "cell_type": "code",
      "source": [
        " #Зная выходы нейронов, можно сказу же вычислить и производные. Для сигмоида это:  o′(x)=o⋅(1−o)\n",
        " drvs = []\n",
        " drvs.append( outputs[0]*(1-outputs[0]) )"
      ],
      "metadata": {
        "id": "O_ompxvrywm5"
      },
      "execution_count": null,
      "outputs": []
    },
    {
      "cell_type": "code",
      "source": [
        "#Аналогично делаем вычисления для 2го слоя, входами будут предыдущие выходы с добавленеим фиктивного входа для весов смещения.\n",
        "inputs.append( np.hstack([outputs[0], np.ones((sample_volume,1))]) )\n",
        "sum.append( np.dot(inputs[1], weights[1]) )\n",
        "outputs.append( sigmoid(sum[1]) )\n",
        "drvs.append( outputs[1]*(1-outputs[1]) )\n",
        "print(outputs[1][0:3])"
      ],
      "metadata": {
        "colab": {
          "base_uri": "https://localhost:8080/"
        },
        "id": "FkA1YLhmzHyV",
        "outputId": "992f5b43-7910-49f1-f0b7-852ad4ccd5ea"
      },
      "execution_count": null,
      "outputs": [
        {
          "output_type": "stream",
          "name": "stdout",
          "text": [
            "[[0.06562962 0.33473039]\n",
            " [0.06900088 0.33257118]\n",
            " [0.07048967 0.33185244]]\n"
          ]
        }
      ]
    },
    {
      "cell_type": "code",
      "source": [
        "#И также для выходного слоя\n",
        "inputs.append( np.hstack([outputs[1], np.ones((sample_volume,1))]) )\n",
        "sum.append( np.dot(inputs[2], weights[2]) )\n",
        "outputs.append( sigmoid(sum[2]) )\n",
        "drvs.append( outputs[2]*(1-outputs[2]) )\n",
        "print(outputs[2][0:3])"
      ],
      "metadata": {
        "colab": {
          "base_uri": "https://localhost:8080/"
        },
        "id": "zdp0edZ2zSrv",
        "outputId": "e2a08493-5041-4934-98eb-454d4786600d"
      },
      "execution_count": null,
      "outputs": [
        {
          "output_type": "stream",
          "name": "stdout",
          "text": [
            "[[0.3659725 ]\n",
            " [0.36545964]\n",
            " [0.36524386]]\n"
          ]
        }
      ]
    },
    {
      "cell_type": "code",
      "source": [
        "#Зная значения на выходном слое (прогноз сети, ответы), можно сранить их с истинными значениям в выборке и рассчитать ошибку.\n",
        "print(\"MSE =\", mean_squared_error(y, outputs[2]))"
      ],
      "metadata": {
        "colab": {
          "base_uri": "https://localhost:8080/"
        },
        "id": "SgfqlfU-zWA9",
        "outputId": "f75784ef-d230-45d8-d20c-230bcc2f7b95"
      },
      "execution_count": null,
      "outputs": [
        {
          "output_type": "stream",
          "name": "stdout",
          "text": [
            "MSE = 0.0845654220464283\n"
          ]
        }
      ]
    },
    {
      "cell_type": "code",
      "source": [
        "#Зная структуру НС, проход можно сделать в цикле.\n",
        "inputs = []\n",
        "outputs = []\n",
        "drvs = []\n",
        "sum = []\n",
        "for i in range(num_layers-1):\n",
        "  if(i == 0):\n",
        "    inputs.append( np.hstack([x, np.ones((sample_volume,1))]) )\n",
        "  else:\n",
        "    inputs.append( np.hstack([outputs[i-1], np.ones((sample_volume,1))]) )\n",
        "  sum.append( np.dot(inputs[i], weights[i]) )\n",
        "  outputs.append( sigmoid(sum[i]) )\n",
        "  drvs.append( outputs[i]*(1-outputs[i]) )\n",
        "\n",
        "print(\"MSE =\", mean_squared_error(y, outputs[num_layers-2]))"
      ],
      "metadata": {
        "colab": {
          "base_uri": "https://localhost:8080/"
        },
        "id": "n-fmE0IRzaV6",
        "outputId": "874f3243-eb8b-45e3-ca89-529b10395468"
      },
      "execution_count": null,
      "outputs": [
        {
          "output_type": "stream",
          "name": "stdout",
          "text": [
            "MSE = 0.0845654220464283\n"
          ]
        }
      ]
    },
    {
      "cell_type": "code",
      "source": [
        "#Изменения весов выходного слоя включают ошибку (разницу между ответом и истинным значением) умноженные на производную этого слоя.\n",
        "#Обратный проход\n",
        "delta3 = (outputs[2] - y) * drvs[2]\n",
        "delta3[0:3]"
      ],
      "metadata": {
        "colab": {
          "base_uri": "https://localhost:8080/"
        },
        "id": "K7RmpqEA0LRZ",
        "outputId": "541d98b8-95c1-4222-e82d-af3bc5f7c4ce"
      },
      "execution_count": null,
      "outputs": [
        {
          "output_type": "execute_result",
          "data": {
            "text/plain": [
              "array([[-0.07144487],\n",
              "       [-0.08338755],\n",
              "       [-0.04266755]])"
            ]
          },
          "metadata": {},
          "execution_count": 47
        }
      ]
    },
    {
      "cell_type": "code",
      "source": [
        "#Дельты следующих слоев получаются путем умнажения предыдущих дельт на веса слоя. Результат умножить на производную слоя, для которого считается дельта, исключив дельты на входах с постоянным значением равным 1.\n",
        "delta2 = np.dot(delta3, weights[2].T)[:,0:2] * drvs[1]\n",
        "delta2[0:3]"
      ],
      "metadata": {
        "colab": {
          "base_uri": "https://localhost:8080/"
        },
        "id": "2JsU3QyO0PGL",
        "outputId": "78438f06-1f63-4d11-8e9a-548636191ea4"
      },
      "execution_count": null,
      "outputs": [
        {
          "output_type": "execute_result",
          "data": {
            "text/plain": [
              "array([[ 0.00232688, -0.00309751],\n",
              "       [ 0.00284504, -0.00360362],\n",
              "       [ 0.00148478, -0.00184189]])"
            ]
          },
          "metadata": {},
          "execution_count": 48
        }
      ]
    },
    {
      "cell_type": "code",
      "source": [
        "delta1 = np.dot(delta2, weights[1].T)[:,0:3]*drvs[0]\n",
        "delta1[0:3]"
      ],
      "metadata": {
        "colab": {
          "base_uri": "https://localhost:8080/"
        },
        "id": "acdb_GkP0QqA",
        "outputId": "c5aa145e-db2a-4eac-9e34-7f1550c3c6e6"
      },
      "execution_count": null,
      "outputs": [
        {
          "output_type": "execute_result",
          "data": {
            "text/plain": [
              "array([[-0.00055112, -0.00040264, -0.00023847],\n",
              "       [-0.0007975 , -0.00045532, -0.00030561],\n",
              "       [-0.00042845, -0.00022396, -0.00015983]])"
            ]
          },
          "metadata": {},
          "execution_count": 49
        }
      ]
    },
    {
      "cell_type": "code",
      "source": [
        "#Для изменения весов из старого значения веса вычитается (минус - направление обратное градиенту) произведение дельты на входы данного слоя и на параметр скорости обучения.\n",
        "learning_rate = 0.5\n",
        "print(\"Старые веса:\\n\", weights[2])\n",
        "weights[2] = weights[2] - learning_rate * np.dot(inputs[2].T, delta3)\n",
        "print(\"Новые веса:\\n\", weights[2])"
      ],
      "metadata": {
        "colab": {
          "base_uri": "https://localhost:8080/"
        },
        "id": "bfuf_Kvt0XQ3",
        "outputId": "f69b17ad-972f-4255-daf5-77c58e3fc0d6"
      },
      "execution_count": null,
      "outputs": [
        {
          "output_type": "stream",
          "name": "stdout",
          "text": [
            "Старые веса:\n",
            " [[ 0.98774363]\n",
            " [-0.11345812]\n",
            " [ 0.27213355]]\n",
            "Новые веса:\n",
            " [[ 0.32300219]\n",
            " [-1.21628662]\n",
            " [-1.4748985 ]]\n"
          ]
        }
      ]
    },
    {
      "cell_type": "code",
      "source": [
        "print(\"Старые веса:\\n\", weights[1])\n",
        "weights[1] = weights[1] - learning_rate * np.dot(inputs[1].T, delta2)\n",
        "print(\"Новые веса:\\n\", weights[1])"
      ],
      "metadata": {
        "colab": {
          "base_uri": "https://localhost:8080/"
        },
        "id": "B98jBw4x0cJC",
        "outputId": "8e53f320-a4c0-4701-c84a-2e7e5765f3d6"
      },
      "execution_count": null,
      "outputs": [
        {
          "output_type": "stream",
          "name": "stdout",
          "text": [
            "Старые веса:\n",
            " [[-0.52380489 -0.71707199]\n",
            " [-0.75164804  0.38606895]\n",
            " [-0.55473858 -0.26581887]\n",
            " [ 0.32898386  0.71144231]]\n",
            "Новые веса:\n",
            " [[-0.6681748  -0.70062496]\n",
            " [-0.95887037  0.40973745]\n",
            " [-0.73291368 -0.24558888]\n",
            " [-0.07624633  0.75754102]]\n"
          ]
        }
      ]
    },
    {
      "cell_type": "code",
      "source": [
        "print(\"Старые веса:\\n\", weights[0])\n",
        "weights[0] = weights[0] - learning_rate * np.dot(inputs[0].T, delta1)\n",
        "print(\"Новые веса:\\n\", weights[0])"
      ],
      "metadata": {
        "colab": {
          "base_uri": "https://localhost:8080/"
        },
        "id": "woPgGeln0ex7",
        "outputId": "abc15994-526a-462b-dad2-88bf296d8096"
      },
      "execution_count": null,
      "outputs": [
        {
          "output_type": "stream",
          "name": "stdout",
          "text": [
            "Старые веса:\n",
            " [[-0.24229016 -0.97635019  0.35717816]\n",
            " [-0.61828346 -0.0811889  -0.21737791]]\n",
            "Новые веса:\n",
            " [[-0.24804985 -0.99243351  0.35369614]\n",
            " [-0.57759832 -0.01267326 -0.16634237]]\n"
          ]
        }
      ]
    },
    {
      "cell_type": "code",
      "source": [
        "#Обратный проход целиком\n",
        "learning_rate = 0.5\n",
        "\n",
        "delta = []\n",
        "for i in reversed(range(num_layers-1)):\n",
        "  if i == (num_layers-2):\n",
        "    delta.append( (y - outputs[i]) * drvs[i] )\n",
        "  else:\n",
        "    delta.append( np.dot(delta[num_layers-3-i],\n",
        "                         weights[i+1].T)[:,0:nn_structure[i+1]] * drvs[i] )\n",
        "\n",
        "for i in range(num_layers-1):\n",
        "  weights[i] = weights[i] - learning_rate * np.dot(inputs[i].T, delta[num_layers-i-2])"
      ],
      "metadata": {
        "id": "SSDz1lK-0g_y"
      },
      "execution_count": null,
      "outputs": []
    },
    {
      "cell_type": "code",
      "source": [
        "def rand_weights(nn_structure):\n",
        "  num_layers = nn_structure.shape[0]\n",
        "  weights = []\n",
        "  for i in range(num_layers-1):\n",
        "    weights.append( np.random.uniform(-1,1,\n",
        "                  (nn_structure[i]+1, nn_structure[i+1])) )\n",
        "  return weights"
      ],
      "metadata": {
        "id": "LciP5-IlBUry"
      },
      "execution_count": null,
      "outputs": []
    },
    {
      "cell_type": "code",
      "source": [
        "def forward(x, weights, nn_structure):\n",
        "  inputs = []\n",
        "  outputs = []\n",
        "  drvs = []\n",
        "  sum = []\n",
        "\n",
        "  num_layers = nn_structure.shape[0]\n",
        "\n",
        "  for i in range(num_layers-1):\n",
        "    if(i == 0):\n",
        "      inputs.append( np.hstack([x, np.ones((sample_volume,1))]) )\n",
        "    else:\n",
        "      inputs.append( np.hstack([outputs[i-1], np.ones((sample_volume,1))]) )\n",
        "    sum.append( np.dot(inputs[i], weights[i]) )\n",
        "    outputs.append( sigmoid(sum[i]) )\n",
        "    drvs.append( outputs[i]*(1-outputs[i]) )\n",
        "\n",
        "  return inputs, outputs, drvs"
      ],
      "metadata": {
        "id": "4WQFIi150rpt"
      },
      "execution_count": null,
      "outputs": []
    },
    {
      "cell_type": "code",
      "source": [
        "def backward(targets, weights, nn_structure, inputs, outputs, drvs, learning_rate):\n",
        "  delta = []\n",
        "\n",
        "  num_layers = nn_structure.shape[0]\n",
        "\n",
        "  for i in reversed(range(num_layers-1)):\n",
        "    if i == (num_layers-2):\n",
        "      delta.append( (outputs[i] - targets) * drvs[i] )\n",
        "    else:\n",
        "      delta.append( np.dot(delta[num_layers-3-i],\n",
        "                          weights[i+1].T)[:,0:nn_structure[i+1]] * drvs[i] )\n",
        "\n",
        "  for i in range(num_layers-1):\n",
        "    weights[i] = weights[i] - learning_rate * np.dot(inputs[i].T, delta[num_layers-i-2])/80\n",
        "\n",
        "  return weights"
      ],
      "metadata": {
        "id": "uFLWas1i03r9"
      },
      "execution_count": null,
      "outputs": []
    },
    {
      "cell_type": "code",
      "source": [
        "weights_ = rand_weights(nn_structure)\n",
        "inputs_, outputs_, drvs_ = forward(x, weights_, nn_structure)\n",
        "error = []\n",
        "\n",
        "learning_rate = 0.5\n",
        "\n",
        "for i in range(20000):\n",
        "  weights_ = backward(y, weights_, nn_structure, inputs_, outputs_, drvs_, learning_rate)\n",
        "  inputs_, outputs_, drvs_ = forward(x, weights_, nn_structure)\n",
        "  error.append(mean_squared_error(y, outputs_[num_layers-2]))\n",
        "  if (i+1)%1000 == 0:\n",
        "    print(\"epoch =\", i+1, \" MSE =\", mean_squared_error(y, outputs_[num_layers-2]) )"
      ],
      "metadata": {
        "colab": {
          "base_uri": "https://localhost:8080/"
        },
        "id": "WqfLncjR05S-",
        "outputId": "f921f5e9-a365-4179-bb57-ec43545ddc14"
      },
      "execution_count": null,
      "outputs": [
        {
          "output_type": "stream",
          "name": "stdout",
          "text": [
            "epoch = 1000  MSE = 0.07697857454737689\n",
            "epoch = 2000  MSE = 0.07554949462596725\n",
            "epoch = 3000  MSE = 0.0698601260366694\n",
            "epoch = 4000  MSE = 0.05644228140585237\n",
            "epoch = 5000  MSE = 0.04962390256951845\n",
            "epoch = 6000  MSE = 0.04680011082453793\n",
            "epoch = 7000  MSE = 0.04426476930312016\n",
            "epoch = 8000  MSE = 0.03986038646212433\n",
            "epoch = 9000  MSE = 0.029280012880824036\n",
            "epoch = 10000  MSE = 0.01484076609007925\n",
            "epoch = 11000  MSE = 0.00853045074485739\n",
            "epoch = 12000  MSE = 0.00666249943564125\n",
            "epoch = 13000  MSE = 0.006081981855813081\n",
            "epoch = 14000  MSE = 0.005880459564851735\n",
            "epoch = 15000  MSE = 0.005800835722158018\n",
            "epoch = 16000  MSE = 0.005763852708559696\n",
            "epoch = 17000  MSE = 0.00574300777653731\n",
            "epoch = 18000  MSE = 0.005728805799702643\n",
            "epoch = 19000  MSE = 0.005717633514912254\n",
            "epoch = 20000  MSE = 0.005708037881719323\n"
          ]
        }
      ]
    },
    {
      "cell_type": "code",
      "source": [
        "fig, ax = plt.subplots(dpi=150)\n",
        "ax.plot(error)\n",
        "ax.set_xlabel('Эпоха')\n",
        "ax.set_ylabel('Среднеквадратическая ошибка')\n",
        "plt.show()"
      ],
      "metadata": {
        "colab": {
          "base_uri": "https://localhost:8080/",
          "height": 562
        },
        "id": "3AEUKZu01Bg1",
        "outputId": "7607944c-51a0-49ae-e42b-146aa26a4d09"
      },
      "execution_count": null,
      "outputs": [
        {
          "output_type": "display_data",
          "data": {
            "text/plain": [
              "<Figure size 900x600 with 1 Axes>"
            ],
            "image/png": "[encoded data removed]"
          },
          "metadata": {
            "needs_background": "light"
          }
        }
      ]
    }
  ]
}